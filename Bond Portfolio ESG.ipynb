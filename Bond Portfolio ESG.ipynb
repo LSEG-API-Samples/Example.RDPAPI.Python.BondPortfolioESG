{
 "cells": [
  {
   "attachments": {},
   "cell_type": "markdown",
   "metadata": {},
   "source": [
    "## Evaluate ESG scores for bonds portfolio"
   ]
  },
  {
   "cell_type": "code",
   "execution_count": null,
   "metadata": {},
   "outputs": [],
   "source": [
    "# load imports\n",
    "import pandas as pd\n",
    "import json, math\n",
    "import plotly.graph_objects as go"
   ]
  },
  {
   "cell_type": "code",
   "execution_count": null,
   "metadata": {},
   "outputs": [],
   "source": [
    "# execute the helper functions defined for accessing RDP REST API calls \n",
    "%run RDPDefines.ipynb"
   ]
  },
  {
   "attachments": {},
   "cell_type": "markdown",
   "metadata": {},
   "source": [
    "### What is Symbology Mapping"
   ]
  },
  {
   "attachments": {},
   "cell_type": "markdown",
   "metadata": {},
   "source": [
    "Symbology Endpoint: [api.refinitiv.com/discovery/symbology/v1/lookup]()\n",
    "\n",
    "parameters [route = FindESGStatementParent]()\n",
    "\n",
    "<br/>\n",
    "Examples:\n",
    "<br/>\n",
    "<br/>\n",
    "\n",
    "|            | Name    | Has ESG |\n",
    "|------------|---------|---------|\n",
    "| Bond       | 44654483026        |         |\n",
    "| Issuer     | SAUDI ELECTRICITY GLOBAL SUKUK COMPANY 3        |         |\n",
    "| 1st Parent | 4295887339 (Saudi Electricity Company)        |    ✔     |\n",
    "| Result     | 4295887339        |         |\n",
    "\n",
    "<br/>\n",
    "\n",
    "|            | Name    | Has ESG |\n",
    "|------------|---------|---------|\n",
    "| Bond       | 192814833479        |         |\n",
    "| Issuer     | GOLDMAN SACHS FINANCE CORP INTERNATIONAL LTD        |         |\n",
    "| 1st Parent | GS Global Markets Inc        |         |\n",
    "| 2nd Parent | 4295911963 (Goldman Sachs Group Inc)        |    ✔   |\n",
    "| Result     | 4295911963       |         |\n",
    "\n",
    "<br/>\n",
    "\n",
    "|            | Name    | Has ESG |\n",
    "|------------|---------|---------|\n",
    "| Bond       | 192846098875        |         |\n",
    "| Issuer     | MORGAN STANLEY BANK NA        |         |\n",
    "| 1st Parent | MORGAN STANLEY DOMESTIC HOLDINGS INC        |         |\n",
    "| 2nd Parent | Morgan Stanley Capital Management LLC        |         |\n",
    "| 3rd Parent | 4295904557 (Morgan Stanley)        |    ✔   |\n",
    "| Result     | 4295904557        |         |\n",
    "\n",
    "<br/>\n",
    "\n",
    "|            | Name    | Has ESG |\n",
    "|------------|---------|---------|\n",
    "| Bond       | 46641173275        |         |\n",
    "| Issuer     | PROPERTY AND BUILDING CORP LTD        |         |\n",
    "| 1st Parent | DISCOUNT INVESTMENT CORP LTD        |         |\n",
    "| 2nd Parent | DOLPHIN NETHERLANDS BV        |         |\n",
    "| 3rd Parent | TYRUS SA        |         |\n",
    "| 4th Parent | 5000620306 (RSA INVERSIONES Y REPRESENTACIONES SA)        |    ✔    |\n",
    "| Result     | 5000620306        |         |\n"
   ]
  },
  {
   "attachments": {},
   "cell_type": "markdown",
   "metadata": {},
   "source": [
    "### Download the bulk JSON files"
   ]
  },
  {
   "cell_type": "code",
   "execution_count": null,
   "metadata": {},
   "outputs": [],
   "source": [
    "# define the download function\n",
    "def downloadJSONBulkFile(bucketName, fileAttributes, fileNameKeywords):\n",
    "    # get a list of all the buckets\n",
    "    hResp = getRequest('/file-store/v1/file-sets?bucket=' + bucketName + '&pageSize=100&attributes=' + fileAttributes)\n",
    "    print(hResp)\n",
    "    # loop through all the buckets\n",
    "    for bucket in hResp['value']:\n",
    "        bName = bucket['name']\n",
    "        # does bucket contains all the matching keywords\n",
    "        if all([x in bName for x in fileNameKeywords]):\n",
    "            fileName = bucket['files'][0]\n",
    "            print('Found bucket: ', bName, ', FileName: ', fileName)\n",
    "            # stop any more searching\n",
    "            break\n",
    "    \n",
    "    if not fileName:\n",
    "        raise Exception('No matching bulk file found in bucket:'.format(bucketName))\n",
    "\n",
    "    # download and uncompress the file object\n",
    "    fileStr = downloadUncompressFile('/file-store/v1/files/' + fileName + '/stream')\n",
    "    print('File downloaded and uncompressed, size: ', len(fileStr))\n",
    "    return fileStr\n"
   ]
  },
  {
   "attachments": {},
   "cell_type": "markdown",
   "metadata": {},
   "source": [
    "#### Download and save the Bond ISIN - ESG Parent mapping"
   ]
  },
  {
   "cell_type": "code",
   "execution_count": null,
   "metadata": {},
   "outputs": [],
   "source": [
    "# download the Bond-ESGParent symbology database\n",
    "jsonlFile = downloadJSONBulkFile('bulk-symbology', 'ContentType:Symbology BondISINSusFinMapping', ['Bond', 'ISIN', 'Json', 'Init'])\n",
    "# parse out the entries in the bulk file\n",
    "mapping = []\n",
    "for l in jsonlFile.splitlines():\n",
    "    jObj = json.loads(l)\n",
    "    if len(jObj['Identifiers']) > 0 and jObj['EsgCoverage']['EsgStatementParentOrganization']:\n",
    "        coName = jObj['EsgCoverage']['EsgStatementParentOrganization']['PartyName']['Names'][0]['NormalizedName'] if jObj['EsgCoverage']['EsgStatementParentOrganization']['PartyName']['Names'] else ''\n",
    "        mapping.append((jObj['Identifiers'][0]['IdentifierValue'], jObj['EsgCoverage']['EsgStatementParentOrganization']['ObjectId'], coName))\n",
    "    \n",
    "print('Loaded {} Bonds ISIN to ESG Parent PermID mappings'.format(len(mapping)))"
   ]
  },
  {
   "cell_type": "code",
   "execution_count": null,
   "metadata": {},
   "outputs": [],
   "source": [
    "# load the dataset into a pandas dataframe\n",
    "df1 = pd.DataFrame(mapping, columns=['Bond', 'ESGParent', 'ParentName'])\n",
    "# save the database\n",
    "df1.to_pickle('Bond_Parent_mapping.pkl')"
   ]
  },
  {
   "attachments": {},
   "cell_type": "markdown",
   "metadata": {},
   "source": [
    "#### Download and save the ESG Scores dataset"
   ]
  },
  {
   "cell_type": "code",
   "execution_count": null,
   "metadata": {},
   "outputs": [],
   "source": [
    "# download the ESG Scores database\n",
    "jsonlFile = downloadJSONBulkFile('bulk-ESG', 'ContentType:ESG Scores', ['Scores-Full', 'Init', 'Jsonl'])"
   ]
  },
  {
   "cell_type": "code",
   "execution_count": null,
   "metadata": {},
   "outputs": [],
   "source": [
    "scores = []\n",
    "for l in jsonlFile.splitlines():\n",
    "    j = json.loads(l)\n",
    "    e = j['ESGScores']\n",
    "    scores.append((j['StatementDetails']['OrganizationId'],\n",
    "        j['StatementDetails']['FinancialPeriodFiscalYear'],\n",
    "        e['ESGCombinedScore']['Value'], \n",
    "        e['ESGScore']['Value'],\n",
    "        e['EnvironmentPillarScore']['Value'],\n",
    "        e['ESGResourceUseScore']['Value'],\n",
    "        e['ESGEmissionsScore']['Value'],\n",
    "        e['ESGInnovationScore']['Value'],\n",
    "        e['SocialPillarScore']['Value'],\n",
    "        e['ESGWorkforceScore']['Value'],\n",
    "        e['ESGHumanRightsScore']['Value'],\n",
    "        e['ESGCommunityScore']['Value'],\n",
    "        e['ESGProductResponsibilityScore']['Value'],\n",
    "        e['GovernancePillarScore']['Value'],\n",
    "        e['ESGManagementScore']['Value'],\n",
    "        e['ESGShareholdersScore']['Value'],\n",
    "        e['ESGCsrStrategyScore']['Value'],\n",
    "        e['ESGCControversiesScore']['Value']))\n",
    "\n",
    "\n",
    "print('Loaded {} scores'.format(len(scores))) \n"
   ]
  },
  {
   "cell_type": "code",
   "execution_count": null,
   "metadata": {},
   "outputs": [],
   "source": [
    "# load the dataset into a pandas dataframe\n",
    "df2 = pd.DataFrame(scores, columns=['OrganizationId', 'FiscalYear', 'ESGCombinedScore', 'ESGScore', 'EnvironmentPillarScore', 'ESGResourceUseScore', 'ESGEmissionsScore', 'ESGInnovationScore', 'SocialPillarScore', 'ESGWorkforceScore', 'ESGHumanRightsScore', 'ESGCommunityScore', 'ESGProductResponsibilityScore', 'GovernancePillarScore', 'ESGManagementScore', 'ESGShareholdersScore', 'ESGCsrStrategyScore', 'ESGCControversiesScore'])\n",
    "# change the Fiscal Year data type to a number\n",
    "df2['FiscalYear'] = df2['FiscalYear'].astype(int)\n",
    "# keep the latest ESG scores only\n",
    "df2 = df2.loc[df2.groupby(['OrganizationId'])['FiscalYear'].idxmax()].reset_index(drop=True)\n",
    "# save the database\n",
    "df2.to_pickle('ESGScores.pkl')"
   ]
  },
  {
   "attachments": {},
   "cell_type": "markdown",
   "metadata": {},
   "source": [
    "### Load the pre-downloaded database for Symbology mapping and ESG"
   ]
  },
  {
   "cell_type": "code",
   "execution_count": null,
   "metadata": {},
   "outputs": [],
   "source": [
    "bMapping = pd.read_pickle('Bond_Parent_mapping.pkl')\n",
    "bMapping.head()"
   ]
  },
  {
   "cell_type": "code",
   "execution_count": null,
   "metadata": {},
   "outputs": [],
   "source": [
    "scores = pd.read_pickle('ESGScores.pkl').astype({'ESGCombinedScore': float, 'ESGScore': float, 'EnvironmentPillarScore': float, 'ESGResourceUseScore': float, 'ESGEmissionsScore': float, 'ESGInnovationScore': float, 'SocialPillarScore': float, 'ESGWorkforceScore': float, 'ESGHumanRightsScore': float, 'ESGCommunityScore': float, 'ESGProductResponsibilityScore': float, 'GovernancePillarScore': float, 'ESGManagementScore': float, 'ESGShareholdersScore': float, 'ESGCsrStrategyScore': float, 'ESGCControversiesScore': float})\n",
    "scores.head()"
   ]
  },
  {
   "attachments": {},
   "cell_type": "markdown",
   "metadata": {},
   "source": [
    "### Get the Bond portfolio holdings"
   ]
  },
  {
   "cell_type": "code",
   "execution_count": null,
   "metadata": {},
   "outputs": [],
   "source": [
    "# what is the Lipper ID of the bonds portfolio\n",
    "portfolioID = 60000170"
   ]
  },
  {
   "cell_type": "code",
   "execution_count": null,
   "metadata": {},
   "outputs": [],
   "source": [
    "# get the constituents bonds in this portfolio\n",
    "hResp = getRequest('/data/funds/v1/assets/' + str(portfolioID), {'properties': 'holdings'})\n",
    "print(hResp)"
   ]
  },
  {
   "cell_type": "code",
   "execution_count": null,
   "metadata": {},
   "outputs": [],
   "source": [
    "allHoldings = []\n",
    "# extract the ISIN, and weights of the bond holdings\n",
    "for a in hResp['assets'][0]['holdings'][0]['constituents']:\n",
    "    if 'crossReferenceCodes' in a:\n",
    "        for code in a['crossReferenceCodes']:\n",
    "            if code['code'] == 'ISIN':\n",
    "                allHoldings.append((code['values'][0]['value'], a['weight']))\n",
    "\n",
    "display(allHoldings[:10])\n",
    "print('This fund contains {} bonds'.format(len(allHoldings)))"
   ]
  },
  {
   "attachments": {},
   "cell_type": "markdown",
   "metadata": {},
   "source": [
    "### Match the ESG-Parent company of these bonds"
   ]
  },
  {
   "cell_type": "code",
   "execution_count": null,
   "metadata": {},
   "outputs": [],
   "source": [
    "# create a master dataframe for all processing\n",
    "mdf = pd.DataFrame(allHoldings, columns =['Bond', 'Weight'])\n",
    "# merge the ESG parent company info into this dataframe\n",
    "mdf = mdf.merge(bMapping, how='left', left_on='Bond', right_on='Bond')\n",
    "display(mdf)"
   ]
  },
  {
   "cell_type": "code",
   "execution_count": null,
   "metadata": {},
   "outputs": [],
   "source": [
    "total = len(allHoldings)\n",
    "covered = len(mdf['ESGParent'].dropna())\n",
    "coverage = (covered / total) * 100\n",
    "fig = go.Figure(go.Indicator(\n",
    "    mode = \"gauge+number\",\n",
    "    value = coverage,\n",
    "    domain = {'x': [0, 1], 'y': [0, 1]},\n",
    "    title = {'text': 'Coverage % ({} out of {} have ESG data)'.format(covered, total) },\n",
    "    gauge = {'axis': {'range': [None, 100]}}))\n",
    "\n",
    "fig.show()"
   ]
  },
  {
   "attachments": {},
   "cell_type": "markdown",
   "metadata": {},
   "source": [
    "### Calculate and display the consolidated ESG Score for the whole portfolio"
   ]
  },
  {
   "cell_type": "code",
   "execution_count": null,
   "metadata": {},
   "outputs": [],
   "source": [
    "# formulate everything onto a dataframe and display\n",
    "combined = mdf.merge(scores, how='left', left_on='ESGParent', right_on='OrganizationId')\n",
    "combined.drop('OrganizationId', axis=1, inplace=True)\n",
    "display(combined)"
   ]
  },
  {
   "cell_type": "code",
   "execution_count": null,
   "metadata": {},
   "outputs": [],
   "source": [
    "# Rebase, calculate the combined ESG scores of these holdings\n",
    "weightedSeries = []\n",
    "for idx, a in combined['ESGCombinedScore'].items():\n",
    "    if math.isnan(a):\n",
    "        weightedSeries.append(0)\n",
    "    else:\n",
    "        weightedSeries.append(combined['Weight'][idx])\n",
    "\n",
    "weightTotal = sum(weightedSeries)\n",
    "rebasedWeight = combined['Weight']/weightTotal"
   ]
  },
  {
   "cell_type": "code",
   "execution_count": null,
   "metadata": {},
   "outputs": [],
   "source": [
    "# calculate the weighted total for the holdings\n",
    "total = []\n",
    "for col in combined:\n",
    "    if col == 'Bond':\n",
    "        total.append('WEIGHTED AVERAGE')\n",
    "    elif col == 'Weight':\n",
    "        total.append(1.0)\n",
    "    elif col == 'FiscalYear':\n",
    "        total.append('')\n",
    "    elif combined[col].dtype == 'float64':\n",
    "        total.append((combined[col] * rebasedWeight).sum())\n",
    "    else:\n",
    "        total.append('')"
   ]
  },
  {
   "cell_type": "code",
   "execution_count": null,
   "metadata": {},
   "outputs": [],
   "source": [
    "# insert the final result into the portfolio\n",
    "combined.loc[-1] = total\n",
    "combined.index = combined.index + 1\n",
    "combined = combined.sort_index()"
   ]
  },
  {
   "cell_type": "code",
   "execution_count": null,
   "metadata": {},
   "outputs": [],
   "source": [
    "# display the final dataframe\n",
    "pd.set_option('display.max_columns', None)\n",
    "# pd.set_option('display.max_rows', None)\n",
    "# pd.set_option(\"display.precision\", 2)\n",
    "display(combined.fillna(''))"
   ]
  },
  {
   "cell_type": "code",
   "execution_count": null,
   "metadata": {},
   "outputs": [],
   "source": [
    "combined.to_clipboard()"
   ]
  }
 ],
 "metadata": {
  "kernelspec": {
   "display_name": "dzone",
   "language": "python",
   "name": "python3"
  },
  "language_info": {
   "codemirror_mode": {
    "name": "ipython",
    "version": 3
   },
   "file_extension": ".py",
   "mimetype": "text/x-python",
   "name": "python",
   "nbconvert_exporter": "python",
   "pygments_lexer": "ipython3",
   "version": "3.9.6"
  },
  "orig_nbformat": 4,
  "vscode": {
   "interpreter": {
    "hash": "1ffa745bed9fc5df41946757b62d2468a6f80450f52a8b9e07da7d984fdf5508"
   }
  }
 },
 "nbformat": 4,
 "nbformat_minor": 2
}
